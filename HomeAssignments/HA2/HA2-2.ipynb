{
 "cells": [
  {
   "cell_type": "markdown",
   "metadata": {},
   "source": [
    "# Home assigment 2\n",
    "\n",
    "Please give your name below:"
   ]
  },
  {
   "cell_type": "code",
   "execution_count": null,
   "metadata": {},
   "outputs": [],
   "source": [
    "name=''"
   ]
  },
  {
   "cell_type": "markdown",
   "metadata": {},
   "source": [
    "## Exercise 2\n",
    "\n",
    "Now you will put together the pieces you learnt in previous labs in order to write a continuous energy Monte Carlo particle transport simulation of a Uranium sphere! Your goal is to estimate the k-effective and to try to find the critical radius of a U-235 sphere. \n",
    "\n",
    "Your assumptions:\n",
    "\n",
    "- The geometry is a sphere\n",
    "- The sphere is made of pure U-235.\n",
    "- You only care about the following reactions: capture, fission and elastic scattering \n",
    "- All scattering is isotropic in the CM frame.\n",
    "- Neutrons emerge isotropically from fission.\n",
    "- Download the pointwise cross sections and the energy dependent nubar data (hint: you can use https://www-nds.iaea.org/).\n",
    "- You can neglect that in a fission event the number of generated neutrons is stochastic, and assume that always nubar neutrons are created.\n",
    "- For the prompt neutron energies you can sample the Watt-distribution (see lecture notes, or Datalab 4)\n",
    "- You do not need to track time (thus all neutrons can be considered to be prompt)\n",
    "- Initially launch neutrons from the center of the sphere, then store fission sites, and later sample the new fission sites from this \"bank\".\n",
    "\n",
    "Your tasks:\n",
    "\n",
    "1. Plot the data you downloaded: the cross section data and the nubar data.\n",
    "2. Complete the function `run()` in order to estimate the k-eigenvalue of a sphere with a continous energy 3D Monte Carlo particle transport simulation. You are encouraged to separate parts into other functions as you saw in Datalab 5 (for example the direction transformations, Watt-spectrum sampling etc). You can include other input parameters and set default values if you feel needed. For each neutron generation estimate the k-eigenvalue based on the initial number of neutrons and the new neutrons after the generation.\n",
    "3. Modify the return list in order to return and plot other data\n",
    "    - Plot the k-eigenvalue estimate vs the generation number\n",
    "    - Plot how the estimated mean k-eigenvalue converges. (use such figures to argue about reasonable values for `NGEN`, `NPG`, `NSKIP`). \n",
    "4. Investigate how the k-eigenvalue depends on the radius of the sphere. Visualize this with matplotlib.\n",
    "5. Find the critical radius. You can do this either with manual trial and error, or use an optimization method.\n"
   ]
  },
  {
   "cell_type": "code",
   "execution_count": null,
   "metadata": {},
   "outputs": [],
   "source": [
    "def run(R,NGEN,NPG,NSKIP):\n",
    "    \"\"\"Function to perform a criticality calculation in a U-235 sphere.\n",
    "    \n",
    "    Parameters\n",
    "    ----------\n",
    "    R : float\n",
    "        Radius of the sphere\n",
    "    NGEN : int\n",
    "        Number of neutron generations\n",
    "    NPG : int\n",
    "        Number of neutrons per generation\n",
    "    NSKIP : int\n",
    "        Number of inactive generations which will not be taken into account for estimating the k-eigenvalue\n",
    "    \n",
    "    Returns\n",
    "    -------\n",
    "    keff : float\n",
    "        The estimated mean k-eigenvalue of the system\n",
    "    kstd : float\n",
    "        The standard deviation of the estimated k-eigenvalue\n",
    "    \"\"\"\n",
    "    return keff, kstd"
   ]
  }
 ],
 "metadata": {
  "kernelspec": {
   "display_name": "Python 3",
   "language": "python",
   "name": "python3"
  },
  "language_info": {
   "codemirror_mode": {
    "name": "ipython",
    "version": 3
   },
   "file_extension": ".py",
   "mimetype": "text/x-python",
   "name": "python",
   "nbconvert_exporter": "python",
   "pygments_lexer": "ipython3",
   "version": "3.7.3"
  }
 },
 "nbformat": 4,
 "nbformat_minor": 4
}
