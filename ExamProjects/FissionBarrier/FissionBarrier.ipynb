{
 "cells": [
  {
   "cell_type": "markdown",
   "id": "e1fb86a4-764d-435a-b3d4-1a71676b8f6e",
   "metadata": {},
   "source": [
    "# Fission process\n",
    "\n",
    "In this exercise you will play with a simplified model of a nucleus to demonstrate the presence of the fission barrier. The exercise follows the description of B. C Reed's The physics of the Manhattan Project (see section 1.11 of the 4th edition). The model is also described in Reed's openly available paper: [A desktop-computer simulation for exploring the fission barrier](http://dx.doi.org/10.4236/ns.2011.34042). There are some differences in the description (which are noted below)\n",
    "\n",
    "Your first task is to read the paper (in case you have access to the book, reading the related chapter from the book is preferred, since as the author states, there is a mistake in Eq. (6) of the paper).\n",
    "\n",
    "Problem summary: Let us consider that an initially spherical nucleus (with radius $R_0$) splits into two identical products. If one recalls the double humped curve of the fission product distribution, one can immedietly see why this assumption is unrealistic. Nevertheless, this assumption makes the problem tangible, and it still provides important insights. \n",
    "\n",
    "As the nucleus starts to split due to some perturbation, we will assume that the system can be described by to spherical ends connected by a neck (see Fig. 1 of the above mentioned paper). Imagine that you try to pull a toroid swimming ring over a spherical beach ball. And at any point the minor radius of the torus is the same as the radius of the upper and lower spherical structures. Since the the volume of the nucleus needs to be conserved (i.e. the nucleus is incompressible), this radius is always lower than the initial radius of the sphere.\n",
    "\n",
    "It is assumed that the total energy of the configuration is the sum of the surface and Coulomb energy of the system and it depends on the level of distortion. You can note, that we further disregard some physics for simplicity (compare to the number of terms in the Bethe-Weizsäcker formula!)\n",
    "\n",
    "The state of the system can be characterized with an angle $\\gamma$ measured from the polar axis to a line connecting the center of the upper sphere and the torus around the neck. And $\\gamma\\in[\\pi/2,\\pi/6]$ (where the boundaries describe the initial spherical state, and the final state right before splitting).\n",
    "\n",
    "Here we skip the geometry related derivations (one can find them in the book and the paper), only note that the radius of the spheres depends on $\\gamma$ as \n",
    "\n",
    "$R(\\gamma)=f_V^{-1/3}R_0$\n",
    "\n",
    "and the distance of the center of the spheres from the equator of the system is\n",
    "\n",
    "$d(\\gamma)=2R(\\gamma)\\cos\\gamma$\n",
    "\n",
    "where \n",
    "\n",
    "$f_V(\\gamma)=1+7\\sin^2\\gamma\\cos\\gamma+2\\cos\\gamma-\\frac{3}{2}\\sin\\gamma [\\pi-2\\gamma+\\sin(2\\gamma)]$\n",
    "\n",
    "Furthermore, the distortion of the surface area from the initial area can be characterized with\n",
    "\n",
    "$f_S(\\gamma)=1+2\\sin\\gamma(\\pi/2-\\gamma)$\n",
    "\n",
    "With that the surface energy of the system (with mass number A) is\n",
    "\n",
    "$U_S(\\gamma)=a_SA^{2/3}f_S(\\gamma)f_V^{-2/3}(\\gamma)$\n",
    "\n",
    "where $a_S\\approx 18\\:\\text{MeV}$.\n",
    "\n",
    "Deducing the Coulomb energy of the system is somewhat less straightforward. Reed outlines a numerical integration within a cylindrical mesh superimposed on the nucleus geometry (see paper or book). As an alternative a Monte Carlo based integration is outlined here. You are free to choose any of these approaches.\n",
    "\n",
    "A Monte Carlo spirited approach could be to sample $N$ locations within the geometry. Each location we would assume to be a point charge with a charge of $\\frac{Ze}{N}$. The electrostatic potential energy stored in a system of $N$ point charges is \n",
    "\n",
    "$U_C=\\frac{1}{2}\\frac{1}{4\\pi\\varepsilon_0}\\sum_{i}q_i\\sum_{j,j\\neq i}\\frac{q_j}{r_{ij}}$\n",
    "\n",
    "If we consider that $R_0=a_0A^{1/3}$ with $a_0=1.2\\:\\text{fm}$, and if we work in $R_0$ units we can further tame this expression and bring it to a form similar to Eq. (11) of Reed's paper. Note, a parameter similar to $a_C$ can be defined but it will yield a slightly different value, and the parameter $\\beta$ characterizing the height of the nucleus will not appear in this case. Nevertheless, moving to R_0 units will turn the double summation with the 1/2 multiplier exactly into the same quantity as $\\Sigma_C$ in Eq. (13) of Reed's paper (note the indexing, in Reed's case the second sum goes from $j=i+1$, which essentially means that the diagonal $i=j$ cases are droped--same as in the above equation--, and that pairwise distances are only accounted for once, which is done by the 1/2 factor above). \n",
    "\n",
    "Your task is to evaluate $U_C$ and $U_S$ and their sum for various level of distortion of the nucleus. Note that the deformation energy of the nucleus is defined as the total energy minus the total energy of the initial system. You might try any (Z,A) combinations, but I recommend trying the same values also as Reed: (40,90) and (92,235) as a benchmark (however, keep in mind that in the paper and the book the results are slightly different, so if you only have access to the paper, don't feel bad, if you observe somewhat higher values).\n",
    "\n",
    "Hints:\n",
    "The location sampling can be done with a rejection based sampling: you draw uniformly within a rectangular cuboid, and you reject points outside of the nucleus (hint within the hint: you can check whether the location is within the lower or upper spheres, and the neck you can handle by checking whether the point is inside a cylinder but outside of a torus). Regardless whether you follow the Monte Carlo approach, or Reed's approach for the numerical integration, you will need to check that locations are within the nucleus' surface.\n",
    "\n",
    "Clearly the main task is to evaluate the double sum of the inverse distances between locations. This can be time-consuming for large N. It is clear that this term is only dependent on the angle $\\gamma$, and not on the (Z,A), thus you only need to do it once. Furthermore, notice that `from scipy.spatial.distance import pdist` performance exactly these type of pairwise calculations (usage `pdist(points,'euclidean')`, where points may be an Nx3 numpy array). On a simple laptop you still might find it difficult to handle $N\\geq 10000$, you can \"cheat\" a bit by evaluating the pairwise distance calculation for lower $N$ several times and take an average. \n",
    "\n",
    "\n",
    "\n",
    "\n",
    "\n"
   ]
  },
  {
   "cell_type": "code",
   "execution_count": null,
   "id": "1f490617-c6e1-439e-9e96-ae538c1c46d4",
   "metadata": {},
   "outputs": [],
   "source": []
  }
 ],
 "metadata": {
  "kernelspec": {
   "display_name": "Python 3 (ipykernel)",
   "language": "python",
   "name": "python3"
  },
  "language_info": {
   "codemirror_mode": {
    "name": "ipython",
    "version": 3
   },
   "file_extension": ".py",
   "mimetype": "text/x-python",
   "name": "python",
   "nbconvert_exporter": "python",
   "pygments_lexer": "ipython3",
   "version": "3.13.1"
  }
 },
 "nbformat": 4,
 "nbformat_minor": 5
}
